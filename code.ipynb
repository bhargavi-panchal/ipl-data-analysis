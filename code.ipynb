from pyspark.sql.types import StructField, StructType, IntegerType, StringType, BooleanType, DateType, DecimalType
from pyspark.sql.functions import when, col, avg, row_number, sum, year, month, dayofmonth, lower, regexp_replace
from pyspark.sql.functions import current_date, expr
from pyspark.sql.window import Window
from pyspark.sql import SparkSession

#create session
spark =  SparkSession.builder.appName("IPL Data Analysis").getOrCreate()
